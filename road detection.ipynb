{
  "nbformat": 4,
  "nbformat_minor": 0,
  "metadata": {
    "colab": {
      "provenance": [],
      "authorship_tag": "ABX9TyNe+etEuf2miFDybeSJHrTz",
      "include_colab_link": true
    },
    "kernelspec": {
      "name": "python3",
      "display_name": "Python 3"
    },
    "language_info": {
      "name": "python"
    }
  },
  "cells": [
    {
      "cell_type": "markdown",
      "metadata": {
        "id": "view-in-github",
        "colab_type": "text"
      },
      "source": [
        "<a href=\"https://colab.research.google.com/github/anupojuharshita/Lane-Detection/blob/main/road%20detection.ipynb\" target=\"_parent\"><img src=\"https://colab.research.google.com/assets/colab-badge.svg\" alt=\"Open In Colab\"/></a>"
      ]
    },
    {
      "cell_type": "code",
      "source": [
        "import cv2\n",
        "import numpy as np\n",
        "import time\n",
        "\n",
        "cap = cv2.VideoCapture('/content/road.mp4')\n",
        "\n",
        "width = int(cap.get(cv2.CAP_PROP_FRAME_WIDTH))\n",
        "height = int(cap.get(cv2.CAP_PROP_FRAME_HEIGHT))\n",
        "fps_input = cap.get(cv2.CAP_PROP_FPS)\n",
        "\n",
        "out = cv2.VideoWriter('output.mp4', cv2.VideoWriter_fourcc(*'mp4v'), fps_input, (width, height))\n",
        "\n",
        "prev_left_lane = None\n",
        "prev_right_lane = None\n",
        "\n",
        "def region_of_interest(img):\n",
        "    mask = np.zeros_like(img)\n",
        "    h, w = img.shape[:2]\n",
        "    polygon = np.array([[\n",
        "        (0, h),\n",
        "        (int(0.4 * w), int(0.55 * h)),\n",
        "        (int(0.6 * w), int(0.55 * h)),\n",
        "        (w, h)\n",
        "    ]], np.int32)\n",
        "    cv2.fillPoly(mask, polygon, 255)\n",
        "    return cv2.bitwise_and(img, mask)\n",
        "\n",
        "def average_slope_intercept(lines, img_shape, side='left'):\n",
        "    x_coords, y_coords = [], []\n",
        "    for x1, y1, x2, y2 in lines:\n",
        "        slope = (y2 - y1) / (x2 - x1 + 1e-5)\n",
        "        if side == 'left' and slope < -0.3:\n",
        "            x_coords += [x1, x2]\n",
        "            y_coords += [y1, y2]\n",
        "        elif side == 'right' and slope > 0.3:\n",
        "            x_coords += [x1, x2]\n",
        "            y_coords += [y1, y2]\n",
        "    if len(x_coords) == 0:\n",
        "        return None\n",
        "    poly = np.polyfit(y_coords, x_coords, deg=1)\n",
        "    y1 = img_shape[0]\n",
        "    y2 = int(img_shape[0] * 0.55)\n",
        "    x1 = int(np.polyval(poly, y1))\n",
        "    x2 = int(np.polyval(poly, y2))\n",
        "    return (x1, y1, x2, y2)\n",
        "\n",
        "def calculate_deviation(left_lane, right_lane, width):\n",
        "    if left_lane and right_lane:\n",
        "        lane_center = (left_lane[2] + right_lane[2]) / 2\n",
        "        car_center = width / 2\n",
        "        deviation = (lane_center - car_center) / car_center * 100\n",
        "        return deviation\n",
        "    return 0\n",
        "\n",
        "def draw_overlay(frame, deviation, fps, left_detected, right_detected):\n",
        "    overlay = frame.copy()\n",
        "    lane_status = \"Good Lane Keeping\" if left_detected and right_detected else \"Lane Detection Issue\"\n",
        "    upcoming_road = \"Left Curve Ahead\" if deviation > 5 else \"Right Curve Ahead\" if deviation < -5 else \"Straight Road\"\n",
        "\n",
        "    cv2.putText(overlay, f\"Deviation: {deviation:.2f}%\", (50, 50), cv2.FONT_HERSHEY_SIMPLEX, 0.4, (255, 255, 255), 1)\n",
        "    cv2.putText(overlay, f\"FPS: {fps:.2f}\", (50, 80), cv2.FONT_HERSHEY_SIMPLEX, 0.4, (255, 255, 255), 1)\n",
        "    cv2.putText(overlay, lane_status, (50, 110), cv2.FONT_HERSHEY_SIMPLEX, 0.7, (0, 255, 0) if left_detected and right_detected else (0, 0, 255), 2)\n",
        "    cv2.putText(overlay, f\"Upcoming Road: {upcoming_road}\", (50, 140), cv2.FONT_HERSHEY_SIMPLEX, 0.4, (255, 255, 255), 1)\n",
        "    return overlay\n",
        "\n",
        "def draw_lane_lines(img, lines, prev_left, prev_right):\n",
        "    left_lines, right_lines = [], []\n",
        "    if lines is not None:\n",
        "        for line in lines:\n",
        "            for x1, y1, x2, y2 in line:\n",
        "                slope = (y2 - y1) / (x2 - x1 + 1e-5)\n",
        "                if slope < -0.3:\n",
        "                    left_lines.append((x1, y1, x2, y2))\n",
        "                elif slope > 0.3:\n",
        "                    right_lines.append((x1, y1, x2, y2))\n",
        "\n",
        "    left_lane = average_slope_intercept(left_lines, img.shape, 'left') or prev_left\n",
        "    right_lane = average_slope_intercept(right_lines, img.shape, 'right') or prev_right\n",
        "\n",
        "    if left_lane:\n",
        "        cv2.line(img, (left_lane[0], left_lane[1]), (left_lane[2], left_lane[3]), (0, 255, 0), 2)\n",
        "    if right_lane:\n",
        "        cv2.line(img, (right_lane[0], right_lane[1]), (right_lane[2], right_lane[3]), (0, 0, 255), 2)\n",
        "\n",
        "    if left_lane and right_lane:\n",
        "        pts = np.array([[left_lane[0], left_lane[1]],\n",
        "                        [left_lane[2], left_lane[3]],\n",
        "                        [right_lane[2], right_lane[3]],\n",
        "                        [right_lane[0], right_lane[1]]], np.int32)\n",
        "        cv2.fillPoly(img, [pts], (144, 238, 144))  # Light green fill\n",
        "\n",
        "    return img, left_lane, right_lane\n",
        "\n",
        "# Process video\n",
        "prev_time = time.time()\n",
        "while cap.isOpened():\n",
        "    ret, frame = cap.read()\n",
        "    if not ret:\n",
        "        break\n",
        "\n",
        "    start_time = time.time()\n",
        "\n",
        "    gray = cv2.cvtColor(frame, cv2.COLOR_BGR2GRAY)\n",
        "    blur = cv2.GaussianBlur(gray, (5, 5), 0)\n",
        "    edges = cv2.Canny(blur, 50, 150)\n",
        "    roi = region_of_interest(edges)\n",
        "    lines = cv2.HoughLinesP(roi, 1, np.pi / 180, threshold=50, minLineLength=50, maxLineGap=150)\n",
        "\n",
        "    processed, prev_left_lane, prev_right_lane = draw_lane_lines(frame.copy(), lines, prev_left_lane, prev_right_lane)\n",
        "\n",
        "    deviation = calculate_deviation(prev_left_lane, prev_right_lane, width)\n",
        "    fps = 1 / (time.time() - start_time + 1e-5)\n",
        "\n",
        "    overlay = draw_overlay(processed, deviation, fps, prev_left_lane is not None, prev_right_lane is not None)\n",
        "    out.write(overlay)\n",
        "\n",
        "cap.release()\n",
        "out.release()\n",
        "print(\"Output saved as output.mp4\")\n"
      ],
      "metadata": {
        "colab": {
          "base_uri": "https://localhost:8080/"
        },
        "id": "N9-FipDiMpNy",
        "outputId": "c549f548-a05a-4e32-c188-d3c662d03761"
      },
      "execution_count": 15,
      "outputs": [
        {
          "output_type": "stream",
          "name": "stdout",
          "text": [
            "✅ Full dual-lane adaptive detection with overlay complete. Output saved as output.mp4\n"
          ]
        }
      ]
    },
    {
      "cell_type": "code",
      "source": [
        "from google.colab import files\n",
        "files.download('output.mp4')\n"
      ],
      "metadata": {
        "colab": {
          "base_uri": "https://localhost:8080/",
          "height": 17
        },
        "id": "SjmiaKLGPcZo",
        "outputId": "2396b2c3-539c-4c47-f142-bc0246a1ac5b"
      },
      "execution_count": 16,
      "outputs": [
        {
          "output_type": "display_data",
          "data": {
            "text/plain": [
              "<IPython.core.display.Javascript object>"
            ],
            "application/javascript": [
              "\n",
              "    async function download(id, filename, size) {\n",
              "      if (!google.colab.kernel.accessAllowed) {\n",
              "        return;\n",
              "      }\n",
              "      const div = document.createElement('div');\n",
              "      const label = document.createElement('label');\n",
              "      label.textContent = `Downloading \"${filename}\": `;\n",
              "      div.appendChild(label);\n",
              "      const progress = document.createElement('progress');\n",
              "      progress.max = size;\n",
              "      div.appendChild(progress);\n",
              "      document.body.appendChild(div);\n",
              "\n",
              "      const buffers = [];\n",
              "      let downloaded = 0;\n",
              "\n",
              "      const channel = await google.colab.kernel.comms.open(id);\n",
              "      // Send a message to notify the kernel that we're ready.\n",
              "      channel.send({})\n",
              "\n",
              "      for await (const message of channel.messages) {\n",
              "        // Send a message to notify the kernel that we're ready.\n",
              "        channel.send({})\n",
              "        if (message.buffers) {\n",
              "          for (const buffer of message.buffers) {\n",
              "            buffers.push(buffer);\n",
              "            downloaded += buffer.byteLength;\n",
              "            progress.value = downloaded;\n",
              "          }\n",
              "        }\n",
              "      }\n",
              "      const blob = new Blob(buffers, {type: 'application/binary'});\n",
              "      const a = document.createElement('a');\n",
              "      a.href = window.URL.createObjectURL(blob);\n",
              "      a.download = filename;\n",
              "      div.appendChild(a);\n",
              "      a.click();\n",
              "      div.remove();\n",
              "    }\n",
              "  "
            ]
          },
          "metadata": {}
        },
        {
          "output_type": "display_data",
          "data": {
            "text/plain": [
              "<IPython.core.display.Javascript object>"
            ],
            "application/javascript": [
              "download(\"download_1457dd1b-abb0-4c2f-bd9b-e204cbf9fc76\", \"output.mp4\", 148705951)"
            ]
          },
          "metadata": {}
        }
      ]
    },
    {
      "cell_type": "code",
      "source": [],
      "metadata": {
        "id": "TGYRRxJQPeQk"
      },
      "execution_count": null,
      "outputs": []
    }
  ]
}